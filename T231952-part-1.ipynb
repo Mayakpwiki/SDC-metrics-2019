{
 "cells": [
  {
   "cell_type": "markdown",
   "metadata": {},
   "source": [
    "# Investigating claim actions\n",
    "\n",
    "Exploring the data for claims/labels in order to understand whether we can identify the number of statements a given file might have based on edit comments."
   ]
  },
  {
   "cell_type": "code",
   "execution_count": 4,
   "metadata": {},
   "outputs": [
    {
     "name": "stderr",
     "output_type": "stream",
     "text": [
      "You can find the source for `wmfdata` at https://github.com/neilpquinn/wmfdata\n"
     ]
    }
   ],
   "source": [
    "import pandas as pd\n",
    "import numpy as np\n",
    "\n",
    "import datetime as dt\n",
    "\n",
    "from wmfdata import hive, mariadb"
   ]
  },
  {
   "cell_type": "markdown",
   "metadata": {},
   "source": [
    "## Configuration variables"
   ]
  },
  {
   "cell_type": "code",
   "execution_count": 2,
   "metadata": {},
   "outputs": [],
   "source": [
    "wmf_snapshot = '2019-11'\n",
    "start_date = '2019-01-01' # first date of caption edits\n",
    "end_date = '2019-12-01' # last date of caption edits (exclusive)"
   ]
  },
  {
   "cell_type": "markdown",
   "metadata": {},
   "source": [
    "# Investigating claim actions\n",
    "\n",
    "I dug into the edit comments a bit to find examples, and found that [this file](https://commons.wikimedia.org/wiki/File:Rosendahl,_Darfeld,_Ortsansicht_--_2014_--_9391.jpg) has a bunch of property edits that provided good insight into what to look for. Basically, it meant that I had to expand my search to anything that starts with \"wb\". Using that insight, the below query looks for an edit comment matching \"wb{something}-{something}:\" (anchored at the start of the comment with space for \"/* \") and aggregates over the first and second \"something\"."
   ]
  },
  {
   "cell_type": "code",
   "execution_count": 18,
   "metadata": {},
   "outputs": [],
   "source": [
    "claim_query = '''\n",
    "SELECT claim_action, claim_subaction, count(*) AS num_actions\n",
    "FROM (\n",
    "    SELECT\n",
    "        regexp_extract(event_comment, \"^...(wb[^-]+)\", 1) AS claim_action,\n",
    "        regexp_extract(event_comment, \"^...wb[^-]+-([^:]+):\", 1) AS claim_subaction\n",
    "    FROM wmf.mediawiki_history\n",
    "    WHERE snapshot = \"{snapshot}\"\n",
    "    AND wiki_db = \"commonswiki\"\n",
    "    AND event_entity = \"revision\"\n",
    "    AND event_type = \"create\"\n",
    "    AND event_timestamp >= \"{start_date}\"\n",
    "    AND event_timestamp < \"{end_date}\"\n",
    "    AND page_is_deleted = false -- only count live pages\n",
    "    AND page_namespace = 6 -- only count files\n",
    "    AND event_comment REGEXP \"^...(wb[^-]+)-([^:]+):\"\n",
    ") AS ce\n",
    "GROUP BY claim_action, claim_subaction\n",
    "'''"
   ]
  },
  {
   "cell_type": "code",
   "execution_count": 19,
   "metadata": {},
   "outputs": [],
   "source": [
    "claim_counts = hive.run(\n",
    "    [\n",
    "        \"SET mapreduce.map.memory.mb=4096\", \n",
    "        claim_query.format(\n",
    "            snapshot = wmf_snapshot,\n",
    "            start_date = start_date,\n",
    "            end_date = end_date\n",
    "        )\n",
    "    ]\n",
    ")"
   ]
  },
  {
   "cell_type": "code",
   "execution_count": 28,
   "metadata": {},
   "outputs": [
    {
     "data": {
      "text/html": [
       "<div>\n",
       "<style scoped>\n",
       "    .dataframe tbody tr th:only-of-type {\n",
       "        vertical-align: middle;\n",
       "    }\n",
       "\n",
       "    .dataframe tbody tr th {\n",
       "        vertical-align: top;\n",
       "    }\n",
       "\n",
       "    .dataframe thead th {\n",
       "        text-align: right;\n",
       "    }\n",
       "</style>\n",
       "<table border=\"1\" class=\"dataframe\">\n",
       "  <thead>\n",
       "    <tr style=\"text-align: right;\">\n",
       "      <th></th>\n",
       "      <th>claim_action</th>\n",
       "      <th>claim_subaction</th>\n",
       "      <th>num_actions</th>\n",
       "    </tr>\n",
       "  </thead>\n",
       "  <tbody>\n",
       "    <tr>\n",
       "      <td>2</td>\n",
       "      <td>wbcreateclaim</td>\n",
       "      <td>create</td>\n",
       "      <td>1655105</td>\n",
       "    </tr>\n",
       "    <tr>\n",
       "      <td>8</td>\n",
       "      <td>wbeditentity</td>\n",
       "      <td>update</td>\n",
       "      <td>261794</td>\n",
       "    </tr>\n",
       "    <tr>\n",
       "      <td>0</td>\n",
       "      <td>wbeditentity</td>\n",
       "      <td>update-languages</td>\n",
       "      <td>872</td>\n",
       "    </tr>\n",
       "    <tr>\n",
       "      <td>11</td>\n",
       "      <td>wbremoveclaims</td>\n",
       "      <td>remove</td>\n",
       "      <td>22021</td>\n",
       "    </tr>\n",
       "    <tr>\n",
       "      <td>3</td>\n",
       "      <td>wbremoveclaims</td>\n",
       "      <td>update</td>\n",
       "      <td>14259</td>\n",
       "    </tr>\n",
       "    <tr>\n",
       "      <td>5</td>\n",
       "      <td>wbsetclaim</td>\n",
       "      <td>create</td>\n",
       "      <td>537587</td>\n",
       "    </tr>\n",
       "    <tr>\n",
       "      <td>6</td>\n",
       "      <td>wbsetclaim</td>\n",
       "      <td>update</td>\n",
       "      <td>40832</td>\n",
       "    </tr>\n",
       "    <tr>\n",
       "      <td>9</td>\n",
       "      <td>wbsetdescription</td>\n",
       "      <td>add</td>\n",
       "      <td>2</td>\n",
       "    </tr>\n",
       "    <tr>\n",
       "      <td>10</td>\n",
       "      <td>wbsetlabel</td>\n",
       "      <td>add</td>\n",
       "      <td>1631793</td>\n",
       "    </tr>\n",
       "    <tr>\n",
       "      <td>7</td>\n",
       "      <td>wbsetlabel</td>\n",
       "      <td>remove</td>\n",
       "      <td>11321</td>\n",
       "    </tr>\n",
       "    <tr>\n",
       "      <td>1</td>\n",
       "      <td>wbsetlabel</td>\n",
       "      <td>set</td>\n",
       "      <td>33839</td>\n",
       "    </tr>\n",
       "    <tr>\n",
       "      <td>4</td>\n",
       "      <td>wbsetqualifier</td>\n",
       "      <td>add</td>\n",
       "      <td>107320</td>\n",
       "    </tr>\n",
       "  </tbody>\n",
       "</table>\n",
       "</div>"
      ],
      "text/plain": [
       "        claim_action   claim_subaction  num_actions\n",
       "2      wbcreateclaim            create      1655105\n",
       "8       wbeditentity            update       261794\n",
       "0       wbeditentity  update-languages          872\n",
       "11    wbremoveclaims            remove        22021\n",
       "3     wbremoveclaims            update        14259\n",
       "5         wbsetclaim            create       537587\n",
       "6         wbsetclaim            update        40832\n",
       "9   wbsetdescription               add            2\n",
       "10        wbsetlabel               add      1631793\n",
       "7         wbsetlabel            remove        11321\n",
       "1         wbsetlabel               set        33839\n",
       "4     wbsetqualifier               add       107320"
      ]
     },
     "execution_count": 28,
     "metadata": {},
     "output_type": "execute_result"
    }
   ],
   "source": [
    "claim_counts.sort_values(['claim_action', 'claim_subaction'])"
   ]
  },
  {
   "cell_type": "markdown",
   "metadata": {},
   "source": [
    "Based on this, I need to ask the developers what the various edit comments are and what they mean. Also, we know from the example file that a single edit can modify multiple properties, meaning that we cannot know how many properties a file has based on the comments."
   ]
  }
 ],
 "metadata": {
  "kernelspec": {
   "display_name": "Python 3",
   "language": "python",
   "name": "python3"
  },
  "language_info": {
   "codemirror_mode": {
    "name": "ipython",
    "version": 3
   },
   "file_extension": ".py",
   "mimetype": "text/x-python",
   "name": "python",
   "nbconvert_exporter": "python",
   "pygments_lexer": "ipython3",
   "version": "3.5.3"
  }
 },
 "nbformat": 4,
 "nbformat_minor": 2
}
