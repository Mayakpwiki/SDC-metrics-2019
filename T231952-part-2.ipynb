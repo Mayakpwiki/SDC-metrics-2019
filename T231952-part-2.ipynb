{
 "cells": [
  {
   "cell_type": "markdown",
   "metadata": {},
   "source": [
    "# Later edits to files on Commons\n",
    "\n",
    "In [T231952](https://phabricator.wikimedia.org/T231952), the second question is aiming to understand to what extent SDC has led to users updating structured data about existing media. It might be that users are instead adding structured data when uploading new media. This notebook seeks to answer this question.\n",
    "\n",
    "Similarly as we did for part 3 (it was done before this), we'll use the `mediawiki_history` table to identify structured data edits, reusing approaches from our micro-contributions analysis. These can then be compared to other types of edits in order to learn when and how structured data is used.\n",
    "\n",
    "Let's load some libraries and get moving."
   ]
  },
  {
   "cell_type": "code",
   "execution_count": 2,
   "metadata": {},
   "outputs": [],
   "source": [
    "from pyspark.sql.types import ArrayType, StringType\n",
    "\n",
    "from pyspark.context import SparkContext\n",
    "from pyspark.sql.session import SparkSession\n",
    "\n",
    "import datetime as dt\n",
    "\n",
    "import pandas as pd\n",
    "import numpy as np"
   ]
  },
  {
   "cell_type": "code",
   "execution_count": 3,
   "metadata": {},
   "outputs": [],
   "source": [
    "# needed to show matplot plots?\n",
    "import matplotlib.pyplot as plt\n",
    "\n",
    "%matplotlib inline\n",
    "\n",
    "from matplotlib import colors"
   ]
  },
  {
   "cell_type": "code",
   "execution_count": 4,
   "metadata": {},
   "outputs": [],
   "source": [
    "sc = SparkContext.getOrCreate()\n",
    "spark = SparkSession(sc)"
   ]
  },
  {
   "cell_type": "markdown",
   "metadata": {},
   "source": [
    "## Configuration variables"
   ]
  },
  {
   "cell_type": "code",
   "execution_count": 5,
   "metadata": {},
   "outputs": [],
   "source": [
    "wmf_snapshot = '2019-11'\n",
    "start_date = '2019-01-01' # first creation date of files we'll be measuring\n",
    "end_date = '2019-12-01' # last creation date"
   ]
  },
  {
   "cell_type": "markdown",
   "metadata": {},
   "source": [
    "## Approach\n",
    "\n",
    "We'll use edit comments to identify structured data edits, and then use timestamps to measure *time to edit* since the page was created. Then, we'll plot a histogram to see if there's a reasonable cutoff we can use for separating edits happening around the initial upload from those happening later.\n",
    "\n",
    "For non-SDC edits, we'll look for edits that added information to a page. These edits cannot be a revert, because that would mean it's reinstating a previous state of the file, nor should it have been reverted within 48 hours, as that would mean it's likely an unproductive edit.\n",
    "\n",
    "In both cases, we'll only look at non-bot edits to files (`page_namespace = 6`) that have not been deleted. While there might also have been valid edits to deleted files, we are mainly interested in learning whether existing pages are updated with structured data. If we were to include deleted files, I think it would be necessary to be careful about what files were included so as to only measure \"meaningful pages\" (e.g. ignoring meaningless content). Determining what did and did not warrant deletion is outside the scope of this analysis."
   ]
  },
  {
   "cell_type": "markdown",
   "metadata": {},
   "source": [
    "## Cache edit data\n",
    "\n",
    "As we'll be exploring and most likely querying the dataset multiple times, we might as well cache a subset of `mediawiki_history`."
   ]
  },
  {
   "cell_type": "code",
   "execution_count": 6,
   "metadata": {},
   "outputs": [],
   "source": [
    "edit_view_query = '''\n",
    "CREATE TEMPORARY VIEW commons_edits\n",
    "AS SELECT event_timestamp, page_creation_timestamp, event_comment,\n",
    "    revision_text_bytes_diff, revision_is_identity_reverted,\n",
    "    revision_seconds_to_identity_revert, revision_is_identity_revert\n",
    "FROM wmf.mediawiki_history\n",
    "WHERE snapshot = \"{snapshot}\"\n",
    "AND wiki_db = \"commonswiki\"\n",
    "AND event_entity = \"revision\"\n",
    "AND event_type = \"create\"\n",
    "AND event_timestamp >= \"{start_date}\"\n",
    "AND event_timestamp < \"{end_date}\"\n",
    "AND page_namespace = 6 -- only files\n",
    "AND page_is_deleted = false -- only live pages\n",
    "AND size(event_user_is_bot_by_historical) = 0 -- no bots\n",
    "AND size(event_user_is_bot_by) = 0 -- no bots\n",
    "'''"
   ]
  },
  {
   "cell_type": "code",
   "execution_count": null,
   "metadata": {},
   "outputs": [],
   "source": []
  },
  {
   "cell_type": "code",
   "execution_count": 7,
   "metadata": {},
   "outputs": [
    {
     "data": {
      "text/plain": [
       "[]"
      ]
     },
     "execution_count": 7,
     "metadata": {},
     "output_type": "execute_result"
    }
   ],
   "source": [
    "spark.sql(edit_view_query.format(\n",
    "    snapshot = wmf_snapshot,\n",
    "    start_date = start_date,\n",
    "    end_date = end_date\n",
    ")).collect()"
   ]
  },
  {
   "cell_type": "code",
   "execution_count": 8,
   "metadata": {},
   "outputs": [
    {
     "data": {
      "text/plain": [
       "[]"
      ]
     },
     "execution_count": 8,
     "metadata": {},
     "output_type": "execute_result"
    }
   ],
   "source": [
    "spark.sql('CACHE TABLE commons_edits').collect()"
   ]
  },
  {
   "cell_type": "markdown",
   "metadata": {},
   "source": [
    "## Time to edit for SDC\n",
    "\n",
    "We'll grab data and plot a histogram for time from page creation to the first SDC edit for files that had either captions or statements added."
   ]
  },
  {
   "cell_type": "code",
   "execution_count": 9,
   "metadata": {},
   "outputs": [],
   "source": [
    "## Time between page creation and edit \n",
    "\n",
    "time_to_sdc_query = '''\n",
    "SELECT unix_timestamp(event_timestamp) - unix_timestamp(page_creation_timestamp) AS time_to_edit\n",
    "FROM commons_edits\n",
    "WHERE event_comment REGEXP \"^...wbsetclaim-create:.*?Special:EntityPage/(P\\\\\\\\d+)\"\n",
    "OR event_comment REGEXP \"^...wbsetlabel-add:\"\n",
    "'''"
   ]
  },
  {
   "cell_type": "code",
   "execution_count": 10,
   "metadata": {},
   "outputs": [],
   "source": [
    "time_to_sdc = spark.sql(time_to_sdc_query).toPandas()"
   ]
  },
  {
   "cell_type": "code",
   "execution_count": 11,
   "metadata": {},
   "outputs": [
    {
     "data": {
      "text/html": [
       "<div>\n",
       "<table border=\"1\" class=\"dataframe\">\n",
       "  <thead>\n",
       "    <tr style=\"text-align: right;\">\n",
       "      <th></th>\n",
       "      <th>time_to_edit</th>\n",
       "    </tr>\n",
       "  </thead>\n",
       "  <tbody>\n",
       "    <tr>\n",
       "      <th>0</th>\n",
       "      <td>147.0</td>\n",
       "    </tr>\n",
       "    <tr>\n",
       "      <th>1</th>\n",
       "      <td>2.0</td>\n",
       "    </tr>\n",
       "    <tr>\n",
       "      <th>2</th>\n",
       "      <td>2.0</td>\n",
       "    </tr>\n",
       "    <tr>\n",
       "      <th>3</th>\n",
       "      <td>2.0</td>\n",
       "    </tr>\n",
       "    <tr>\n",
       "      <th>4</th>\n",
       "      <td>12.0</td>\n",
       "    </tr>\n",
       "  </tbody>\n",
       "</table>\n",
       "</div>"
      ],
      "text/plain": [
       "   time_to_edit\n",
       "0         147.0\n",
       "1           2.0\n",
       "2           2.0\n",
       "3           2.0\n",
       "4          12.0"
      ]
     },
     "execution_count": 11,
     "metadata": {},
     "output_type": "execute_result"
    }
   ],
   "source": [
    "time_to_sdc.loc[time_to_sdc['time_to_edit'] > 0].head()"
   ]
  },
  {
   "cell_type": "code",
   "execution_count": 12,
   "metadata": {},
   "outputs": [
    {
     "data": {
      "image/png": "[encoded data removed]",
      "text/plain": [
       "<matplotlib.figure.Figure at 0x7fdf89921748>"
      ]
     },
     "metadata": {},
     "output_type": "display_data"
    }
   ],
   "source": [
    "plt.style.use('default')\n",
    "\n",
    "def plot_loghist(x, bins):\n",
    "    hist, bins = np.histogram(x, bins=bins)\n",
    "    logbins = np.logspace(np.log10(bins[0]),np.log10(bins[-1]),len(bins))\n",
    "    plt.hist(x, bins=logbins)\n",
    "    plt.xscale('log')\n",
    "    plt.xticks([60, 60*60, 24*60*60, 30*24*60*60, 365*24*60*60, 5*365*24*60*60, 10*365*24*60*60],\n",
    "      [\"1m\", \"1h\", \"1d\", \"1mo\", \"1y\", \"5y\", \"10y\"])\n",
    "    axes = plt.axes()\n",
    "    axes.grid(linestyle=':', linewidth=1)\n",
    "\n",
    "\n",
    "plot_loghist(time_to_sdc.loc[time_to_sdc['time_to_edit'] > 0]['time_to_edit'], 30)"
   ]
  },
  {
   "cell_type": "markdown",
   "metadata": {},
   "source": [
    "The vertical lines in the histogram are 1 minute, 1 hour, 1 day, 1 month, 1 year, 5 years, and 10 years, by the way.\n",
    "\n",
    "## Time to edit for non-SDC data\n",
    "\n",
    "Here we look at time since an article was created for an edit that is not a structured edit, that added something to the file. The edit cannot be a revert, because that would mean it's reinstating a previous state of the file, nor should it have been reverted within 48 hours, as that would mean it's likely an unproductive edit."
   ]
  },
  {
   "cell_type": "code",
   "execution_count": 13,
   "metadata": {},
   "outputs": [],
   "source": [
    "## Time between page creation and edit \n",
    "\n",
    "time_to_data_query = '''\n",
    "SELECT unix_timestamp(event_timestamp) - unix_timestamp(page_creation_timestamp) AS time_to_edit\n",
    "FROM commons_edits\n",
    "WHERE event_comment NOT REGEXP \"^...wbsetclaim-create:.*?Special:EntityPage/(P\\\\\\\\d+)\"\n",
    "AND event_comment NOT REGEXP \"^...wbsetlabel-add:\"\n",
    "AND revision_text_bytes_diff > 0\n",
    "AND (revision_is_identity_reverted = false\n",
    "     OR revision_seconds_to_identity_revert > 48 * 60 * 60)\n",
    "AND revision_is_identity_revert = false\n",
    "'''"
   ]
  },
  {
   "cell_type": "code",
   "execution_count": 14,
   "metadata": {},
   "outputs": [],
   "source": [
    "time_to_data = spark.sql(time_to_data_query).toPandas()"
   ]
  },
  {
   "cell_type": "code",
   "execution_count": 15,
   "metadata": {},
   "outputs": [
    {
     "data": {
      "text/html": [
       "<div>\n",
       "<table border=\"1\" class=\"dataframe\">\n",
       "  <thead>\n",
       "    <tr style=\"text-align: right;\">\n",
       "      <th></th>\n",
       "      <th>time_to_edit</th>\n",
       "    </tr>\n",
       "  </thead>\n",
       "  <tbody>\n",
       "    <tr>\n",
       "      <th>0</th>\n",
       "      <td>66.0</td>\n",
       "    </tr>\n",
       "    <tr>\n",
       "      <th>4</th>\n",
       "      <td>338449.0</td>\n",
       "    </tr>\n",
       "    <tr>\n",
       "      <th>5</th>\n",
       "      <td>193966.0</td>\n",
       "    </tr>\n",
       "    <tr>\n",
       "      <th>6</th>\n",
       "      <td>2651063.0</td>\n",
       "    </tr>\n",
       "    <tr>\n",
       "      <th>8</th>\n",
       "      <td>1564.0</td>\n",
       "    </tr>\n",
       "  </tbody>\n",
       "</table>\n",
       "</div>"
      ],
      "text/plain": [
       "   time_to_edit\n",
       "0          66.0\n",
       "4      338449.0\n",
       "5      193966.0\n",
       "6     2651063.0\n",
       "8        1564.0"
      ]
     },
     "execution_count": 15,
     "metadata": {},
     "output_type": "execute_result"
    }
   ],
   "source": [
    "time_to_data.loc[time_to_data['time_to_edit'] > 0].head()"
   ]
  },
  {
   "cell_type": "code",
   "execution_count": 16,
   "metadata": {},
   "outputs": [
    {
     "data": {
      "image/png": "[encoded data removed]",
      "text/plain": [
       "<matplotlib.figure.Figure at 0x7fdfbc5f3518>"
      ]
     },
     "metadata": {},
     "output_type": "display_data"
    }
   ],
   "source": [
    "plot_loghist(time_to_data.loc[time_to_data['time_to_edit'] > 0]['time_to_edit'], 30)"
   ]
  },
  {
   "cell_type": "markdown",
   "metadata": {},
   "source": [
    "Same vertical lines in the histogram at 1 minute, 1 hour, 1 day, 1 month, 1 year, 5 years, and 10 years.\n",
    "\n",
    "## Summary, and what's next?\n",
    "\n",
    "So far, we've learned that SDC edits (in 2019) most frequently occur right around the file upload. There's a cutoff around the 1 hour mark in the distribution of those edits. A second part of the distribution starts around the 1 month mark, but increases significantly around the 1 year mark and onwards. There are definitely older files that are being edited with structured data. Looks like there's roughly 500,000 SDC edits to >= 1 year old files.\n",
    "\n",
    "For non-SDC edits (again made in 2019 so far), we see the majority of them being done to quite old files, often a year or older. There's about 7,000,000 edits to those. Activity on newly uploaded files seems to be quite limited, there's a clear jump up at 24 hours. Note that we've removed bots from these, so this means that commonists are making a lot of maintenance edits.\n",
    "\n",
    "This also means that it'll be difficult for us to learn to what extent commonists are making substantially more of these edits now that SDC is available. The goal for SDC was a 10% increase. 500,000 vs 7,000,000 suggests that might be the case, though. I'll think about whether a straightforward comparison of those two numbers is reasonable or not."
   ]
  },
  {
   "cell_type": "markdown",
   "metadata": {},
   "source": [
    "## Time horizon for SDC edits\n",
    "\n",
    "We see that for both SDC edits and non-SDC edits, one month is a reasonable threshold for longer-term maintenance edits. If the file is older than that, it means they're no longer making updates to the file. Let's make a comparison of number of SDC edits from 30–60 days 60–90 days, 90–120 days, 120–150 days, and 150–180 days, just to get an idea if there's actually an increase there or what we're seeing is the increase in the bucket size."
   ]
  },
  {
   "cell_type": "code",
   "execution_count": 17,
   "metadata": {},
   "outputs": [],
   "source": [
    "sdc_horizon_query = '''\n",
    "WITH sdc_edits AS (\n",
    "    SELECT unix_timestamp(event_timestamp) - unix_timestamp(page_creation_timestamp) AS time_to_edit\n",
    "    FROM commons_edits\n",
    "    WHERE event_comment REGEXP \"^...wbsetclaim-create:.*?Special:EntityPage/(P\\\\\\\\d+)\"\n",
    "    OR event_comment REGEXP \"^...wbsetlabel-add:\"\n",
    ")\n",
    "SELECT \n",
    "    SUM(IF(time_to_edit BETWEEN 3600*24*30 AND 3600*24*60, 1, 0)) AS num_30,\n",
    "    SUM(IF(time_to_edit BETWEEN 3600*24*60 AND 3600*24*90, 1, 0)) AS num_60,\n",
    "    SUM(IF(time_to_edit BETWEEN 3600*24*90 AND 3600*24*120, 1, 0)) AS num_90,\n",
    "    SUM(IF(time_to_edit BETWEEN 3600*24*120 AND 3600*24*150, 1, 0)) AS num_120,\n",
    "    SUM(IF(time_to_edit BETWEEN 3600*24*150 AND 3600*24*180, 1, 0)) AS num_150\n",
    "FROM sdc_edits\n",
    "'''"
   ]
  },
  {
   "cell_type": "code",
   "execution_count": 18,
   "metadata": {},
   "outputs": [
    {
     "data": {
      "text/html": [
       "<div>\n",
       "<table border=\"1\" class=\"dataframe\">\n",
       "  <thead>\n",
       "    <tr style=\"text-align: right;\">\n",
       "      <th></th>\n",
       "      <th>num_30</th>\n",
       "      <th>num_60</th>\n",
       "      <th>num_90</th>\n",
       "      <th>num_120</th>\n",
       "      <th>num_150</th>\n",
       "    </tr>\n",
       "  </thead>\n",
       "  <tbody>\n",
       "    <tr>\n",
       "      <th>0</th>\n",
       "      <td>9333</td>\n",
       "      <td>10063</td>\n",
       "      <td>8213</td>\n",
       "      <td>4741</td>\n",
       "      <td>5208</td>\n",
       "    </tr>\n",
       "  </tbody>\n",
       "</table>\n",
       "</div>"
      ],
      "text/plain": [
       "   num_30  num_60  num_90  num_120  num_150\n",
       "0    9333   10063    8213     4741     5208"
      ]
     },
     "execution_count": 18,
     "metadata": {},
     "output_type": "execute_result"
    }
   ],
   "source": [
    "sdc_horizons = spark.sql(sdc_horizon_query).toPandas()\n",
    "sdc_horizons"
   ]
  },
  {
   "cell_type": "markdown",
   "metadata": {},
   "source": [
    "We see that there's a substantial amount of edits in the second month, similar to the third month, and the fourth is not far behind. Because of this, I find choosing a 30 day threshold to seem reasonable, otherwise we'd have to go much further, at 120 days, and that seems unreasonable."
   ]
  },
  {
   "cell_type": "markdown",
   "metadata": {},
   "source": [
    "# Comparison of number of SDC and non-SDC edits\n",
    "\n",
    "We'll look at this overall so far in 2019, as well as edits done in Q1, Q2, and Q3 specifically."
   ]
  },
  {
   "cell_type": "code",
   "execution_count": 42,
   "metadata": {},
   "outputs": [],
   "source": [
    "overall_stats_query = '''\n",
    "SELECT\n",
    "    SUM(IF(event_timestamp >= \"2019-01-01\" AND event_timestamp < \"2019-04-01\"\n",
    "           AND edit_type = \"sdc\", 1, 0)) AS sdc_q1,\n",
    "    SUM(IF(event_timestamp >= \"2019-01-01\" AND event_timestamp < \"2019-04-01\"\n",
    "           AND edit_type = \"non-sdc\", 1, 0)) AS non_sdc_q1,\n",
    "    SUM(IF(event_timestamp >= \"2019-04-01\" AND event_timestamp < \"2019-07-01\"\n",
    "           AND edit_type = \"sdc\", 1, 0)) AS sdc_q2,\n",
    "    SUM(IF(event_timestamp >= \"2019-04-01\" AND event_timestamp < \"2019-07-01\"\n",
    "           AND edit_type = \"non-sdc\", 1, 0)) AS non_sdc_q2,\n",
    "    SUM(IF(event_timestamp >= \"2019-07-01\" AND event_timestamp < \"2019-10-01\"\n",
    "           AND edit_type = \"sdc\", 1, 0)) AS sdc_q3,\n",
    "    SUM(IF(event_timestamp >= \"2019-07-01\" AND event_timestamp < \"2019-10-01\"\n",
    "           AND edit_type = \"non-sdc\", 1, 0)) AS non_sdc_q3,\n",
    "    SUM(IF(event_timestamp >= \"2019-10-01\" AND event_timestamp < \"2020-01-01\"\n",
    "           AND edit_type = \"sdc\", 1, 0)) AS sdc_q4,\n",
    "    SUM(IF(event_timestamp >= \"2019-10-01\" AND event_timestamp < \"2020-01-01\"\n",
    "           AND edit_type = \"non-sdc\", 1, 0)) AS non_sdc_q4,\n",
    "    SUM(IF(event_timestamp >= \"2019-01-01\" AND event_timestamp < \"2020-01-01\"\n",
    "           AND edit_type = \"sdc\", 1, 0)) AS sdc_overall,\n",
    "    SUM(IF(event_timestamp >= \"2019-01-01\" AND event_timestamp < \"2020-01-01\"\n",
    "           AND edit_type = \"non-sdc\", 1, 0)) AS non_sdc_overall\n",
    "FROM (\n",
    "    SELECT \"sdc\" AS edit_type, event_timestamp, \n",
    "           unix_timestamp(event_timestamp) - unix_timestamp(page_creation_timestamp) AS time_to_edit\n",
    "    FROM commons_edits\n",
    "    WHERE event_comment REGEXP \"^...wbsetclaim-create:.*?Special:EntityPage/(P\\\\\\\\d+)\"\n",
    "    OR event_comment REGEXP \"^...wbsetlabel-add:\"\n",
    "    UNION ALL\n",
    "    SELECT \"non-sdc\" AS edit_type, event_timestamp,\n",
    "           unix_timestamp(event_timestamp) - unix_timestamp(page_creation_timestamp) AS time_to_edit\n",
    "    FROM commons_edits\n",
    "    WHERE event_comment NOT REGEXP \"^...wbsetclaim-create:.*?Special:EntityPage/(P\\\\\\\\d+)\"\n",
    "    AND event_comment NOT REGEXP \"^...wbsetlabel-add:\"\n",
    "    AND revision_text_bytes_diff > 0\n",
    "    AND (revision_is_identity_reverted = false\n",
    "         OR revision_seconds_to_identity_revert > 48 * 60 * 60)\n",
    "    AND revision_is_identity_revert = false\n",
    ")\n",
    "WHERE time_to_edit >= 60*60*24*30\n",
    "'''"
   ]
  },
  {
   "cell_type": "code",
   "execution_count": 43,
   "metadata": {},
   "outputs": [],
   "source": [
    "overall_stats = spark.sql(overall_stats_query).toPandas()"
   ]
  },
  {
   "cell_type": "code",
   "execution_count": 44,
   "metadata": {},
   "outputs": [
    {
     "data": {
      "text/html": [
       "<div>\n",
       "<table border=\"1\" class=\"dataframe\">\n",
       "  <thead>\n",
       "    <tr style=\"text-align: right;\">\n",
       "      <th></th>\n",
       "      <th>sdc_q1</th>\n",
       "      <th>non_sdc_q1</th>\n",
       "      <th>sdc_q2</th>\n",
       "      <th>non_sdc_q2</th>\n",
       "      <th>sdc_q3</th>\n",
       "      <th>non_sdc_q3</th>\n",
       "      <th>sdc_q4</th>\n",
       "      <th>non_sdc_q4</th>\n",
       "      <th>sdc_overall</th>\n",
       "      <th>non_sdc_overall</th>\n",
       "    </tr>\n",
       "  </thead>\n",
       "  <tbody>\n",
       "    <tr>\n",
       "      <th>0</th>\n",
       "      <td>29168</td>\n",
       "      <td>2439163</td>\n",
       "      <td>65853</td>\n",
       "      <td>2098908</td>\n",
       "      <td>120114</td>\n",
       "      <td>2475043</td>\n",
       "      <td>161799</td>\n",
       "      <td>1683223</td>\n",
       "      <td>376934</td>\n",
       "      <td>8696337</td>\n",
       "    </tr>\n",
       "  </tbody>\n",
       "</table>\n",
       "</div>"
      ],
      "text/plain": [
       "   sdc_q1  non_sdc_q1  sdc_q2  non_sdc_q2  sdc_q3  non_sdc_q3  sdc_q4  \\\n",
       "0   29168     2439163   65853     2098908  120114     2475043  161799   \n",
       "\n",
       "   non_sdc_q4  sdc_overall  non_sdc_overall  \n",
       "0     1683223       376934          8696337  "
      ]
     },
     "execution_count": 44,
     "metadata": {},
     "output_type": "execute_result"
    }
   ],
   "source": [
    "overall_stats"
   ]
  },
  {
   "cell_type": "markdown",
   "metadata": {},
   "source": [
    "What proportions does that gives us on a per-quarter basis and overall?\n",
    "\n",
    "### Q1 2019"
   ]
  },
  {
   "cell_type": "code",
   "execution_count": 38,
   "metadata": {},
   "outputs": [
    {
     "data": {
      "text/plain": [
       "0    1.2\n",
       "dtype: float64"
      ]
     },
     "execution_count": 38,
     "metadata": {},
     "output_type": "execute_result"
    }
   ],
   "source": [
    "round(100 * overall_stats['sdc_q1'] / (overall_stats['sdc_q1'] + overall_stats['non_sdc_q1']), 1)"
   ]
  },
  {
   "cell_type": "markdown",
   "metadata": {},
   "source": [
    "### Q2 2019"
   ]
  },
  {
   "cell_type": "code",
   "execution_count": 39,
   "metadata": {},
   "outputs": [
    {
     "data": {
      "text/plain": [
       "0    3.0\n",
       "dtype: float64"
      ]
     },
     "execution_count": 39,
     "metadata": {},
     "output_type": "execute_result"
    }
   ],
   "source": [
    "round(100 * overall_stats['sdc_q2'] / (overall_stats['sdc_q2'] + overall_stats['non_sdc_q2']), 1)"
   ]
  },
  {
   "cell_type": "markdown",
   "metadata": {},
   "source": [
    "### Q3 2019"
   ]
  },
  {
   "cell_type": "code",
   "execution_count": 40,
   "metadata": {},
   "outputs": [
    {
     "data": {
      "text/plain": [
       "0    4.6\n",
       "dtype: float64"
      ]
     },
     "execution_count": 40,
     "metadata": {},
     "output_type": "execute_result"
    }
   ],
   "source": [
    "round(100 * overall_stats['sdc_q3'] / (overall_stats['sdc_q3'] + overall_stats['non_sdc_q3']), 1)"
   ]
  },
  {
   "cell_type": "markdown",
   "metadata": {},
   "source": [
    "### Q4 2019\n",
    "\n",
    "So far in Q4, meaning the months of October and November."
   ]
  },
  {
   "cell_type": "code",
   "execution_count": 45,
   "metadata": {},
   "outputs": [
    {
     "data": {
      "text/plain": [
       "0    8.8\n",
       "dtype: float64"
      ]
     },
     "execution_count": 45,
     "metadata": {},
     "output_type": "execute_result"
    }
   ],
   "source": [
    "round(100 * overall_stats['sdc_q4'] / (overall_stats['sdc_q4'] + overall_stats['non_sdc_q4']), 1)"
   ]
  },
  {
   "cell_type": "markdown",
   "metadata": {},
   "source": [
    "### 2019 overall"
   ]
  },
  {
   "cell_type": "code",
   "execution_count": 41,
   "metadata": {},
   "outputs": [
    {
     "data": {
      "text/plain": [
       "0    4.2\n",
       "dtype: float64"
      ]
     },
     "execution_count": 41,
     "metadata": {},
     "output_type": "execute_result"
    }
   ],
   "source": [
    "round(100 * overall_stats['sdc_overall'] / (overall_stats['sdc_overall'] + overall_stats['non_sdc_overall']), 1)"
   ]
  }
 ],
 "metadata": {
  "kernelspec": {
   "display_name": "PySpark - YARN (large)",
   "language": "python",
   "name": "spark_yarn_pyspark_large"
  },
  "language_info": {
   "codemirror_mode": {
    "name": "ipython",
    "version": 3
   },
   "file_extension": ".py",
   "mimetype": "text/x-python",
   "name": "python",
   "nbconvert_exporter": "python",
   "pygments_lexer": "ipython3",
   "version": "3.5.3"
  }
 },
 "nbformat": 4,
 "nbformat_minor": 2
}
