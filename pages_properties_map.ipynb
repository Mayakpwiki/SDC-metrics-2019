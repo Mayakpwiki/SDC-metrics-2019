{
 "cells": [
  {
   "cell_type": "markdown",
   "metadata": {},
   "source": [
    "# Mapping of page IDs to properties we are interested in"
   ]
  },
  {
   "cell_type": "code",
   "execution_count": null,
   "metadata": {},
   "outputs": [],
   "source": [
    "map_query = '''\n",
    "WITH all_pages AS (\n",
    "    SELECT page_id\n",
    "    FROM wmf.mediawiki_history\n",
    "    WHERE snapshot = \"\"2019-11\"\"\n",
    "    AND wiki_db = \"\"commonswiki\"\"\n",
    "    AND event_entity = \"\"revision\"\"\n",
    "    AND event_type = \"\"create\"\"\n",
    "    AND event_timestamp >= \"\"2019-07-31\"\"\n",
    "    AND event_timestamp < \"\"2019-12-01\"\"\n",
    "    AND page_is_deleted = false -- only count live pages\n",
    "    AND page_namespace = 6 -- only count files\n",
    "),\n",
    "label_pages AS (\n",
    "    SELECT page_id, 1 AS has_label\n",
    "    FROM wmf.mediawiki_history\n",
    "    WHERE snapshot = \"{snapshot}\"\n",
    "    AND wiki_db = \"commonswiki\"\n",
    "    AND event_entity = \"revision\"\n",
    "    AND event_type = \"create\"\n",
    "    AND event_timestamp >= \"{start_date}\"\n",
    "    AND event_timestamp < \"{end_date}\"\n",
    "    AND page_is_deleted = false -- only count live pages\n",
    "    AND page_namespace = 6 -- only count files\n",
    "    AND event_comment REGEXP \"^...wbsetlabel-(add|set):\"\n",
    "),\n",
    "depicts_pages AS (\n",
    "    SELECT page_id, 1 AS has_depicts\n",
    "    FROM wmf.mediawiki_history\n",
    "    WHERE snapshot = \"2019-11\"\n",
    "    AND wiki_db = \"commonswiki\"\n",
    "    AND event_entity = \"revision\"\n",
    "    AND event_type = \"create\"\n",
    "    AND event_timestamp >= \"2019-07-31\"\n",
    "    AND event_timestamp < \"2019-12-01\"\n",
    "    AND page_is_deleted = false -- only count live pages\n",
    "    AND page_namespace = 6 -- only count files\n",
    "    AND (event_comment REGEXP \"^...wbcreateclaim-create:\"\n",
    "         OR event_comment REGEXP \"^...wbeditentity-update:\"\n",
    "         OR event_comment REGEXP \"^...wbsetclaim-create:\"\n",
    "         OR event_comment REGEXP \"^...wbsetclaim-update:\"\n",
    "    )\n",
    "    AND event_comment LIKE \"%P180%\"\n",
    ")\n",
    "\n",
    "-- add all the properties here...\n",
    "\n",
    "SELECT all_pages.page_id,\n",
    "  has_label, has_depicts\n",
    "FROM all_pages\n",
    "LEFT JOIN label_pages\n",
    "ON page_id\n",
    "LEFT JOIN depicts_pages\n",
    "ON page_id\n",
    "WHERE (has_label IS NOT NULL\n",
    "       OR has_depicts IS NOT NULL)\n",
    "\n",
    "'''"
   ]
  }
 ],
 "metadata": {
  "kernelspec": {
   "display_name": "Python 3",
   "language": "python",
   "name": "python3"
  },
  "language_info": {
   "codemirror_mode": {
    "name": "ipython",
    "version": 3
   },
   "file_extension": ".py",
   "mimetype": "text/x-python",
   "name": "python",
   "nbconvert_exporter": "python",
   "pygments_lexer": "ipython3",
   "version": "3.5.3"
  }
 },
 "nbformat": 4,
 "nbformat_minor": 2
}
