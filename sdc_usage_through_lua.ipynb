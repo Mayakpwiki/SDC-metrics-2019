{
 "cells": [
  {
   "cell_type": "markdown",
   "metadata": {},
   "source": [
    "# SDC Usage through Lua\n",
    "\n",
    "This is a small addon to the analysis done in [T231952](https://phabricator.wikimedia.org/T231952).\n",
    "\n",
    "We're interested in understanding the impact SDC has now that the Information and Artwork templates have been updated to pull in SDC data through Lua. This is relatively straightforward to do, because as we larned from Matthias Mullie's explanation in [T231952#5717638](https://phabricator.wikimedia.org/T231952#5717638), `wbc_entity_usage` is populated when data is used through Lua. To measure the impact therefore becomes a question of counting the number of files that show up in this table that have either the Information or Artwork template."
   ]
  },
  {
   "cell_type": "code",
   "execution_count": 1,
   "metadata": {},
   "outputs": [
    {
     "name": "stderr",
     "output_type": "stream",
     "text": [
      "You can find the source for `wmfdata` at https://github.com/neilpquinn/wmfdata\n"
     ]
    }
   ],
   "source": [
    "import pandas as pd\n",
    "import numpy as np\n",
    "\n",
    "import datetime as dt\n",
    "\n",
    "from wmfdata import hive, mariadb"
   ]
  },
  {
   "cell_type": "markdown",
   "metadata": {},
   "source": [
    "## What aspects are in use?\n",
    "\n",
    "The `wbc_entity_usage` table has a column `eu_aspect`, which tracks which property is in use. I therefore first ran the following query through a terminal to get a sense of what property are in use, in other words what to look for.\n",
    "\n",
    "```\n",
    "SELECT eu_aspect , count(*) AS num_pages\n",
    "FROM wbc_entity_usage\n",
    "GROUP BY eu_aspect\n",
    "ORDER BY num_pages\n",
    "DESC LIMIT 250\n",
    "```\n",
    "\n",
    "Looking at this, we have the following properties:\n",
    "\n",
    "* S: sitelinks\n",
    "* L: labels, also known as \"Captions\"\n",
    "* O: statement\n",
    "* T: title\n",
    "* D: looks like this is used to link Commons categories to WikiData items (ref [T238878#5685577](https://phabricator.wikimedia.org/T238878#5685577)\n",
    "\n",
    "However, if we dig into the [source code of the Information template](https://commons.wikimedia.org/w/index.php?title=Module:Information&oldid=375848825) (in this case the most recent revision as of Dec 15), we see that they're only pulling in descriptions (captions). It's a little unclear what the Artwork template does, it at least grabs a whole bunch of information from WikiData. So, I ran the following query to get some information out of `wbc_entity_usage` for files containing the Artwork template.\n",
    "\n",
    "```\n",
    "SELECT eu_aspect\n",
    "FROM templatelinks\n",
    "JOIN wbc_entity_usage\n",
    "ON tl_from = eu_page_id\n",
    "WHERE tl_from_namespace = 6\n",
    "AND tl_namespace = 10\n",
    "AND tl_title = \"Artwork\"\n",
    "LIMIT 250\n",
    "```\n",
    "\n",
    "It's a lot of S, O, and L entries. We know that O is a statement and L is a caption, but what is \"S\"? According to [the manual](https://www.mediawiki.org/wiki/Wikibase/Schema/wbc_entity_usage), it's \"sitelinks\".\n",
    "\n",
    "Based on this, we'd like to know, for each of the Information and Artwork templates, the number of pages with the template, the number of them using captions, the number of them using statements, and the number of them using both.\n",
    "\n",
    "I further dug into the aspects used for the Artwork template through the following query:\n",
    "\n",
    "```\n",
    "SELECT *\n",
    "FROM templatelinks\n",
    "JOIN wbc_entity_usage\n",
    "ON tl_from = eu_page_id\n",
    "WHERE tl_from_namespace = 6\n",
    "AND tl_namespace = 10\n",
    "AND tl_title = \"Artwork\"\n",
    "AND eu_entity_id REGEXP \"^M\"\n",
    "AND eu_aspect != \"T\"\n",
    "LIMIT 250\n",
    "```\n",
    "\n",
    "It looks like a lot of files are populating the template with the title, which isn't really part of SDC, hence why I ran the query. It only returns 26 files, though. How many of the pages that contain the template also pull in the title?"
   ]
  },
  {
   "cell_type": "code",
   "execution_count": 5,
   "metadata": {},
   "outputs": [],
   "source": [
    "title_template_query = '''\n",
    "SELECT count(*), SUM(IF(eu_page_id IS NOT NULL, 1, 0)) AS num_with_title\n",
    "FROM templatelinks\n",
    "LEFT JOIN wbc_entity_usage\n",
    "ON tl_from = eu_page_id\n",
    "WHERE tl_from_namespace = 6\n",
    "AND tl_namespace = 10\n",
    "AND tl_title = \"Artwork\"\n",
    "AND eu_entity_id REGEXP \"^M\"\n",
    "AND eu_aspect = \"T\"\n",
    "'''"
   ]
  },
  {
   "cell_type": "code",
   "execution_count": 6,
   "metadata": {},
   "outputs": [
    {
     "data": {
      "text/html": [
       "<div>\n",
       "<style scoped>\n",
       "    .dataframe tbody tr th:only-of-type {\n",
       "        vertical-align: middle;\n",
       "    }\n",
       "\n",
       "    .dataframe tbody tr th {\n",
       "        vertical-align: top;\n",
       "    }\n",
       "\n",
       "    .dataframe thead th {\n",
       "        text-align: right;\n",
       "    }\n",
       "</style>\n",
       "<table border=\"1\" class=\"dataframe\">\n",
       "  <thead>\n",
       "    <tr style=\"text-align: right;\">\n",
       "      <th></th>\n",
       "      <th>count(*)</th>\n",
       "      <th>num_with_title</th>\n",
       "    </tr>\n",
       "  </thead>\n",
       "  <tbody>\n",
       "    <tr>\n",
       "      <td>0</td>\n",
       "      <td>3291</td>\n",
       "      <td>3291.0</td>\n",
       "    </tr>\n",
       "  </tbody>\n",
       "</table>\n",
       "</div>"
      ],
      "text/plain": [
       "   count(*)  num_with_title\n",
       "0      3291          3291.0"
      ]
     },
     "execution_count": 6,
     "metadata": {},
     "output_type": "execute_result"
    }
   ],
   "source": [
    "mariadb.run(title_template_query, 'commonswiki')"
   ]
  },
  {
   "cell_type": "markdown",
   "metadata": {},
   "source": [
    "So that's every file. This means that usage of the title is meaningless for artwork?\n",
    "\n",
    "I don't think it's meaningful to keep digging down this rabbit hole at this point, and instead focus on the number of pages that use labels (captions).\n",
    "\n",
    "## Queries"
   ]
  },
  {
   "cell_type": "code",
   "execution_count": 7,
   "metadata": {},
   "outputs": [],
   "source": [
    "## Query to count the number of files that uses a given template\n",
    "template_count_query = '''\n",
    "SELECT count(DISTINCT tl_from) AS num_files\n",
    "FROM templatelinks\n",
    "WHERE tl_namespace = 10 -- template\n",
    "AND tl_title = \"{template_title}\"\n",
    "AND tl_from_namespace = 6 -- only files\n",
    "'''"
   ]
  },
  {
   "cell_type": "code",
   "execution_count": 8,
   "metadata": {},
   "outputs": [],
   "source": [
    "## Query to count the number of files that uses a given template\n",
    "## and uses Lua to pull in the file's caption.\n",
    "\n",
    "caption_count_query = '''\n",
    "SELECT count(DISTINCT tl_from) AS num_files\n",
    "FROM templatelinks\n",
    "JOIN wbc_entity_usage\n",
    "ON tl_from = eu_page_id\n",
    "WHERE tl_namespace = 10 -- template\n",
    "AND tl_title = \"{template_title}\"\n",
    "AND tl_from_namespace = 6 -- only files\n",
    "AND eu_entity_id REGEXP \"^M\" -- pulling from MediaInfo\n",
    "AND eu_aspect REGEXP \"^L\" -- pulling in a description\n",
    "'''"
   ]
  },
  {
   "cell_type": "markdown",
   "metadata": {},
   "source": [
    "## Information template\n",
    "\n",
    "Number of files that contain the template:"
   ]
  },
  {
   "cell_type": "code",
   "execution_count": 10,
   "metadata": {},
   "outputs": [
    {
     "data": {
      "text/html": [
       "<div>\n",
       "<style scoped>\n",
       "    .dataframe tbody tr th:only-of-type {\n",
       "        vertical-align: middle;\n",
       "    }\n",
       "\n",
       "    .dataframe tbody tr th {\n",
       "        vertical-align: top;\n",
       "    }\n",
       "\n",
       "    .dataframe thead th {\n",
       "        text-align: right;\n",
       "    }\n",
       "</style>\n",
       "<table border=\"1\" class=\"dataframe\">\n",
       "  <thead>\n",
       "    <tr style=\"text-align: right;\">\n",
       "      <th></th>\n",
       "      <th>count(DISTINCT tl_from)</th>\n",
       "    </tr>\n",
       "  </thead>\n",
       "  <tbody>\n",
       "    <tr>\n",
       "      <td>0</td>\n",
       "      <td>51836906</td>\n",
       "    </tr>\n",
       "  </tbody>\n",
       "</table>\n",
       "</div>"
      ],
      "text/plain": [
       "   count(DISTINCT tl_from)\n",
       "0                 51836906"
      ]
     },
     "execution_count": 10,
     "metadata": {},
     "output_type": "execute_result"
    }
   ],
   "source": [
    "mariadb.run(template_count_query.format(template_title = 'Information'), 'commonswiki')"
   ]
  },
  {
   "cell_type": "markdown",
   "metadata": {},
   "source": [
    "Number of files that contain the template and pull in the description (in any language):"
   ]
  },
  {
   "cell_type": "code",
   "execution_count": 11,
   "metadata": {},
   "outputs": [
    {
     "data": {
      "text/html": [
       "<div>\n",
       "<style scoped>\n",
       "    .dataframe tbody tr th:only-of-type {\n",
       "        vertical-align: middle;\n",
       "    }\n",
       "\n",
       "    .dataframe tbody tr th {\n",
       "        vertical-align: top;\n",
       "    }\n",
       "\n",
       "    .dataframe thead th {\n",
       "        text-align: right;\n",
       "    }\n",
       "</style>\n",
       "<table border=\"1\" class=\"dataframe\">\n",
       "  <thead>\n",
       "    <tr style=\"text-align: right;\">\n",
       "      <th></th>\n",
       "      <th>count(DISTINCT tl_from)</th>\n",
       "    </tr>\n",
       "  </thead>\n",
       "  <tbody>\n",
       "    <tr>\n",
       "      <td>0</td>\n",
       "      <td>2013</td>\n",
       "    </tr>\n",
       "  </tbody>\n",
       "</table>\n",
       "</div>"
      ],
      "text/plain": [
       "   count(DISTINCT tl_from)\n",
       "0                     2013"
      ]
     },
     "execution_count": 11,
     "metadata": {},
     "output_type": "execute_result"
    }
   ],
   "source": [
    "mariadb.run(caption_count_query.format(template_title = 'Information'), 'commonswiki')"
   ]
  },
  {
   "cell_type": "markdown",
   "metadata": {},
   "source": [
    "## Artwork template\n",
    "\n",
    "Number of files that contain the template:"
   ]
  },
  {
   "cell_type": "code",
   "execution_count": 12,
   "metadata": {},
   "outputs": [
    {
     "data": {
      "text/html": [
       "<div>\n",
       "<style scoped>\n",
       "    .dataframe tbody tr th:only-of-type {\n",
       "        vertical-align: middle;\n",
       "    }\n",
       "\n",
       "    .dataframe tbody tr th {\n",
       "        vertical-align: top;\n",
       "    }\n",
       "\n",
       "    .dataframe thead th {\n",
       "        text-align: right;\n",
       "    }\n",
       "</style>\n",
       "<table border=\"1\" class=\"dataframe\">\n",
       "  <thead>\n",
       "    <tr style=\"text-align: right;\">\n",
       "      <th></th>\n",
       "      <th>count(DISTINCT tl_from)</th>\n",
       "    </tr>\n",
       "  </thead>\n",
       "  <tbody>\n",
       "    <tr>\n",
       "      <td>0</td>\n",
       "      <td>2429145</td>\n",
       "    </tr>\n",
       "  </tbody>\n",
       "</table>\n",
       "</div>"
      ],
      "text/plain": [
       "   count(DISTINCT tl_from)\n",
       "0                  2429145"
      ]
     },
     "execution_count": 12,
     "metadata": {},
     "output_type": "execute_result"
    }
   ],
   "source": [
    "mariadb.run(template_count_query.format(template_title = 'Artwork'), 'commonswiki')"
   ]
  },
  {
   "cell_type": "markdown",
   "metadata": {},
   "source": [
    "Number of files that contain the template and pull in the description (in any language):"
   ]
  },
  {
   "cell_type": "code",
   "execution_count": 13,
   "metadata": {},
   "outputs": [
    {
     "data": {
      "text/html": [
       "<div>\n",
       "<style scoped>\n",
       "    .dataframe tbody tr th:only-of-type {\n",
       "        vertical-align: middle;\n",
       "    }\n",
       "\n",
       "    .dataframe tbody tr th {\n",
       "        vertical-align: top;\n",
       "    }\n",
       "\n",
       "    .dataframe thead th {\n",
       "        text-align: right;\n",
       "    }\n",
       "</style>\n",
       "<table border=\"1\" class=\"dataframe\">\n",
       "  <thead>\n",
       "    <tr style=\"text-align: right;\">\n",
       "      <th></th>\n",
       "      <th>count(DISTINCT tl_from)</th>\n",
       "    </tr>\n",
       "  </thead>\n",
       "  <tbody>\n",
       "    <tr>\n",
       "      <td>0</td>\n",
       "      <td>17</td>\n",
       "    </tr>\n",
       "  </tbody>\n",
       "</table>\n",
       "</div>"
      ],
      "text/plain": [
       "   count(DISTINCT tl_from)\n",
       "0                       17"
      ]
     },
     "execution_count": 13,
     "metadata": {},
     "output_type": "execute_result"
    }
   ],
   "source": [
    "mariadb.run(caption_count_query.format(template_title = 'Artwork'), 'commonswiki')"
   ]
  },
  {
   "cell_type": "markdown",
   "metadata": {},
   "source": [
    "## Conclusion\n",
    "\n",
    "This isn't in widespread use currently, but it's perhaps something worth monitoring to understand if it is replacing existing usage. In other words, that new files that get uploaded will have a caption in SDC, which is then automatically added because of the template, rather than users adding the description in the wikitext."
   ]
  }
 ],
 "metadata": {
  "kernelspec": {
   "display_name": "Python 3",
   "language": "python",
   "name": "python3"
  },
  "language_info": {
   "codemirror_mode": {
    "name": "ipython",
    "version": 3
   },
   "file_extension": ".py",
   "mimetype": "text/x-python",
   "name": "python",
   "nbconvert_exporter": "python",
   "pygments_lexer": "ipython3",
   "version": "3.5.3"
  }
 },
 "nbformat": 4,
 "nbformat_minor": 2
}
